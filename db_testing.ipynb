{
 "cells": [
  {
   "cell_type": "code",
   "execution_count": 1,
   "id": "f06a0a78",
   "metadata": {},
   "outputs": [],
   "source": [
    "from sqlalchemy import create_engine\n",
    "import sqlite3\n",
    "import pandas as pd"
   ]
  },
  {
   "cell_type": "code",
   "execution_count": 3,
   "id": "5b707e5d",
   "metadata": {},
   "outputs": [],
   "source": [
    "engine = create_engine(f'sqlite:///quotes.db', echo=False)\n",
    "con = sqlite3.connect('database/quotes.db') # connecting to the database\n",
    "cursor = con.cursor()"
   ]
  },
  {
   "cell_type": "code",
   "execution_count": 4,
   "id": "c904f8c7",
   "metadata": {},
   "outputs": [
    {
     "data": {
      "text/plain": [
       "['Koutetsujou_no_Kabaneri_quotes',\n",
       " 'Mashle_quotes',\n",
       " 'Helck_quotes',\n",
       " 'Dou_Po_Cangqiong_Di_Si_Ji_quotes',\n",
       " 'Iya_na_Kao_Sarenagara_Opantsu_Misete_Moraitai_quotes',\n",
       " 'Yubisaki_to_Renren_quotes',\n",
       " 'Shokugeki_no_Souma_OAD_quotes',\n",
       " 'Sasaki_to_P-chan_quotes',\n",
       " 'Kekkon_Yubiwa_Monogatari_quotes',\n",
       " 'Nozomanu_Fushi_no_Boukensha_quotes',\n",
       " 'Isekai_Maou_to_Shoukan_Shoujo_no_Dorei_Majutsu_quotes',\n",
       " 'Isekai_Maou_to_Shoukan_Shoujo_no_Dorei_Majutsu_Omega_quotes',\n",
       " 'Magical_Hat_quotes',\n",
       " 'Aho_Girl_quotes',\n",
       " 'Kaitou_Saint_Tail_quotes',\n",
       " 'Megami_no_Cafe_Terrace_quotes',\n",
       " 'World_Trigger_quotes',\n",
       " 'Kasumin_1st_Series_quotes',\n",
       " 'Spy_x_Family_(2023)_quotes',\n",
       " 'Tensei_Shitara_Slime_Datta_Ken_(2021)_quotes',\n",
       " 'Undead_Unluck_quotes',\n",
       " 'Pokemon_Concierge_quotes',\n",
       " 'Yofukashi_no_Uta_quotes',\n",
       " 'Pon_no_Michi_quotes',\n",
       " 'Jujutsu_Kaisen_(2023)_quotes',\n",
       " 'Kage_no_Jitsuryokusha_ni_Naritakute!_2nd_Season_quotes',\n",
       " 'Shiguang_Dailiren_II_quotes',\n",
       " 'Pluto_quotes',\n",
       " 'Watashi_no_Shiawase_na_Kekkon_quotes',\n",
       " 'Fruits_Basket_1st_Season_quotes',\n",
       " 'Spy_x_Family_(2022)_quotes',\n",
       " 'Vinland_Saga_Season_2_quotes',\n",
       " 'Synduality_Noir_(2024)_quotes',\n",
       " 'Shingeki_no_Kyojin_Season_3_quotes',\n",
       " 'Shingeki_no_Kyojin_Season_3_(2019)_quotes',\n",
       " 'Shingeki_no_Kyojin_Season_2_quotes',\n",
       " 'Shingeki_no_Kyojin_OAD_quotes',\n",
       " 'Overlord_IV_quotes',\n",
       " 'Overlord_III_quotes',\n",
       " 'Overlord_II_quotes',\n",
       " 'Overlord_quotes',\n",
       " 'Kekkai_Sensen_&_Beyond_quotes',\n",
       " 'Kekkai_Sensen_quotes',\n",
       " 'Isekai_Shoukan_wa_Nidome_Desu_quotes',\n",
       " 'Fruits_Basket_2nd_Season_quotes',\n",
       " 'Double_Decker!_Doug_&_Kirill_quotes',\n",
       " 'Fruits_Basket_the_Final_quotes',\n",
       " 'Gakusen_Toshi_Asterisk_quotes',\n",
       " 'Akuma-kun_quotes',\n",
       " 'Ore_dake_Level_Up_na_Ken_quotes',\n",
       " 'Mahou_Shoujo_ni_Akogarete_quotes',\n",
       " 'Megaton-kyuu_Musashi_quotes',\n",
       " 'Undead_Girl_Murder_Farce_quotes',\n",
       " 'Captain_Tsubasa_(2018)_quotes',\n",
       " 'Boku_no_Hero_Academia_(2017)_quotes',\n",
       " 'Kono_Healer,_Mendokusai_quotes',\n",
       " 'Itai_no_wa_Iya_nano_de_Bougyoryoku_ni_Kyokufuri_Shitai_to_Omoimasu._2_quotes',\n",
       " 'Kusuriya_no_Hitorigoto_quotes',\n",
       " 'Human_Bug_Daigaku_quotes',\n",
       " 'UFO_Robo_Grendizer_quotes',\n",
       " 'Amaama_to_Inazuma_quotes',\n",
       " 'Dou_Shen_Ji_quotes',\n",
       " 'Zuihou_De_Zhaohuan_Shi_quotes',\n",
       " 'Oishinbo_quotes',\n",
       " 'Ragna_Crimson_quotes',\n",
       " 'Sousou_no_Frieren_quotes',\n",
       " 'Zanting!_Rang_Wo_Cha_Gonglue_quotes',\n",
       " '86_quotes',\n",
       " 'Sangatsu_no_Lion_quotes',\n",
       " 'Sangatsu_no_Lion_(2017)_quotes',\n",
       " '30-sai_made_Doutei_da_to_Mahou_Tsukai_ni_Nareru_Rashii_quotes',\n",
       " 'Shenmue_the_Animation_quotes',\n",
       " 'Yonin_wa_Sorezore_Uso_o_Tsuku_quotes',\n",
       " 'Shin_Ikkitousen_quotes',\n",
       " 'Fumetsu_no_Anata_e_quotes',\n",
       " 'Zombie_Land_Saga_Revenge_quotes',\n",
       " 'Dosanko_Gal_wa_Namara_Menkoi_quotes',\n",
       " 'Mahou_no_Princess_Minky_Momo_quotes',\n",
       " 'Waccha_PriMagi!_quotes',\n",
       " 'Shinigami_Bocchan_to_Kuro_Maid_quotes',\n",
       " 'Shinigami_Bocchan_to_Kuro_Maid_(2023)_quotes',\n",
       " 'Futari_wa_Precure_quotes',\n",
       " 'Hakuouki_quotes',\n",
       " 'Hirogaru_Sky!_Precure_quotes',\n",
       " \"Healin'_Good_Precure_quotes\",\n",
       " 'Tropical-Rouge!_Precure_quotes',\n",
       " 'Meikyuu_Black_Company_quotes',\n",
       " 'Sabikui_Bisco_quotes',\n",
       " 'Tsuki_ga_Michibiku_Isekai_Douchuu_quotes',\n",
       " 'Kyoukai_no_Rinne_(2017)_quotes',\n",
       " 'High_School_Fleet_quotes',\n",
       " 'Yuru_Camp_Season_2_quotes',\n",
       " 'Elfen_Lied_quotes',\n",
       " 'Jigokuraku_quotes',\n",
       " 'Xian_Wang_de_Richang_Shenghuo_Di_Si_Ji_quotes',\n",
       " 'Majo_to_Yajuu_quotes',\n",
       " 'Hoshikuzu_Telepath_quotes',\n",
       " 'Haikara-san_ga_Tooru_quotes',\n",
       " 'Tomo-chan_wa_Onnanoko!_quotes',\n",
       " 'Otome_Game_no_Hametsu_Flag_shika_Nai_Akuyaku_Reijou_ni_Tensei_Shiteshimatta..._X_quotes',\n",
       " '100-man_no_Inochi_no_Ue_ni_Ore_wa_Tatte_Iru_(2021)_quotes',\n",
       " '100-man_no_Inochi_no_Ue_ni_Ore_wa_Tatte_Iru_quotes',\n",
       " 'Snack_Basue_quotes',\n",
       " 'Tensei_Shitara_Slime_Datta_Ken_(2019)_quotes',\n",
       " 'Araiguma_Rascal_quotes',\n",
       " 'Magical_Taruruuto-kun_quotes',\n",
       " 'Edens_Zero_(2023)_quotes',\n",
       " 'Ishura_quotes',\n",
       " 'Tensei_Shitara_Slime_Datta_Ken_quotes',\n",
       " 'Chiyu_Mahou_no_Machigatta_Tsukaikata_quotes',\n",
       " '07-Ghost_quotes',\n",
       " 'Kidou_Senshi_Gundam_Double_O_quotes',\n",
       " 'Youkoso_Jitsuryoku_Shijou_Shugi_no_Kyoushitsu_e_3rd_Season_quotes',\n",
       " 'Metallic_Rouge_quotes',\n",
       " 'Made_in_Abyss_quotes',\n",
       " 'Futoku_no_Guild_quotes',\n",
       " 'Mahou_no_Idol_Pastel_Yumi_quotes',\n",
       " 'Fantasy_Bishoujo_Juniku_Ojisan_to_quotes',\n",
       " 'Grand_Blue_quotes',\n",
       " 'Ousama_Ranking_quotes',\n",
       " 'Granblue_Fantasy_The_Animation_quotes',\n",
       " 'Minami_no_Niji_no_Lucy_quotes',\n",
       " 'Shoujo_Kageki_Revue_Starlight_quotes',\n",
       " 'tables']"
      ]
     },
     "execution_count": 4,
     "metadata": {},
     "output_type": "execute_result"
    }
   ],
   "source": [
    "tables = cursor.execute(\"SELECT name FROM sqlite_master where type='table';\").fetchall() # getting every table name\n",
    "tables = [table[0] for table in tables]\n",
    "tables"
   ]
  },
  {
   "cell_type": "code",
   "execution_count": 7,
   "id": "bb101e12",
   "metadata": {},
   "outputs": [],
   "source": [
    "data=[]\n",
    "for table in tables: # for each table calculate the percentage of unknown character entries\n",
    "    try:\n",
    "        unknown_rate=cursor.execute(f\"SELECT AVG(is_unknown) \\\n",
    "                                    FROM \\\n",
    "                                        (SELECT Episode, \\\n",
    "                                        (CASE WHEN name IS 'Unknown' THEN 1 ELSE 0 END) AS is_unknown, \\\n",
    "                                        Quote FROM {table}) AS temp\").fetchall()\n",
    "        data.append([table,unknown_rate[0][0]])\n",
    "    except:\n",
    "        data.append([table, 'NaN'])"
   ]
  },
  {
   "cell_type": "code",
   "execution_count": 8,
   "id": "d5687d69",
   "metadata": {},
   "outputs": [
    {
     "data": {
      "text/plain": [
       "124"
      ]
     },
     "execution_count": 8,
     "metadata": {},
     "output_type": "execute_result"
    }
   ],
   "source": [
    "df = pd.DataFrame(data=data, columns=['name', 'unknown_rate'])\n",
    "df.to_sql('tables',con=engine,if_exists='replace', index=False) # load to quotes.db"
   ]
  },
  {
   "cell_type": "code",
   "execution_count": null,
   "id": "254ca9bb",
   "metadata": {},
   "outputs": [],
   "source": []
  }
 ],
 "metadata": {
  "kernelspec": {
   "display_name": "Python 3 (ipykernel)",
   "language": "python",
   "name": "python3"
  },
  "language_info": {
   "codemirror_mode": {
    "name": "ipython",
    "version": 3
   },
   "file_extension": ".py",
   "mimetype": "text/x-python",
   "name": "python",
   "nbconvert_exporter": "python",
   "pygments_lexer": "ipython3",
   "version": "3.9.13"
  }
 },
 "nbformat": 4,
 "nbformat_minor": 5
}
